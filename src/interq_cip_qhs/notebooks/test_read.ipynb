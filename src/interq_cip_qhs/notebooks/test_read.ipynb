{
 "cells": [
  {
   "cell_type": "code",
   "execution_count": 9,
   "metadata": {},
   "outputs": [],
   "source": [
    "%load_ext autoreload\n",
    "%autoreload 2"
   ]
  },
  {
   "cell_type": "code",
   "execution_count": 1,
   "metadata": {},
   "outputs": [],
   "source": [
    "import numpy as np\n",
    "import pprint\n",
    "import json\n",
    "from interq_cip_qhs.process.utils import jprint\n",
    "\n",
    "\n",
    "from interq_cip_qhs.process.sawing import SawingProcessData\n",
    "from interq_cip_qhs.product.sawing import SawingProductData\n",
    "from interq_cip_qhs.process.milling import MillingProcessData\n",
    "from interq_cip_qhs.product.milling import MillingProductData\n",
    "from interq_cip_qhs.process.turning import TurningProcessData\n",
    "from interq_cip_qhs.product.turning import TurningProductData\n",
    "\n",
    "path_data = \"/home/mittwollen_h@PTW.Maschinenbau.TU-Darmstadt.de/interq_cip_qhs/src/interq_cip_qhs/notebooks/\"\n"
   ]
  },
  {
   "attachments": {},
   "cell_type": "markdown",
   "metadata": {},
   "source": [
    "get saw process QH"
   ]
  },
  {
   "cell_type": "code",
   "execution_count": null,
   "metadata": {},
   "outputs": [],
   "source": [
    "reader = SawingProcessData(\n",
    "    path_data = path_data\n",
    ")\n",
    "a = reader.get_process_QH_id(\"100102\")\n",
    "jprint(a)"
   ]
  },
  {
   "cell_type": "markdown",
   "metadata": {},
   "source": [
    "publish saw process QH"
   ]
  },
  {
   "cell_type": "code",
   "execution_count": null,
   "metadata": {
    "scrolled": true
   },
   "outputs": [],
   "source": [
    "b = reader.publish_process_QH_id(\"100102\")\n",
    "jprint(b)"
   ]
  },
  {
   "cell_type": "markdown",
   "metadata": {},
   "source": [
    "get sawing data qh"
   ]
  },
  {
   "cell_type": "code",
   "execution_count": null,
   "metadata": {},
   "outputs": [],
   "source": [
    "a = reader.get_data_QH_id(\"100102\", container_name = \"angry_williamson\")\n",
    "jprint(a)"
   ]
  },
  {
   "cell_type": "markdown",
   "metadata": {},
   "source": [
    "publish sawing data qh"
   ]
  },
  {
   "cell_type": "code",
   "execution_count": null,
   "metadata": {},
   "outputs": [],
   "source": [
    "a = reader.publish_data_QH_id(\"100102\", container_name = \"angry_williamson\")\n",
    "jprint(a)"
   ]
  },
  {
   "cell_type": "markdown",
   "metadata": {},
   "source": [
    "get sawing product qh"
   ]
  },
  {
   "cell_type": "code",
   "execution_count": 3,
   "metadata": {},
   "outputs": [
    {
     "name": "stdout",
     "output_type": "stream",
     "text": [
      "         id measurement_timestamp    weight\n",
      "0    100101   16-08-2022 09:04:59  0.536389\n",
      "1    100102   16-08-2022 09:05:42  0.533120\n",
      "2    100103   16-08-2022 09:06:23  0.529679\n",
      "3    100104   16-08-2022 09:07:57  0.533523\n",
      "4    100201   16-08-2022 09:10:26  0.530947\n",
      "..      ...                   ...       ...\n",
      "980  124801   31-10-2022 15:12:44  0.553775\n",
      "981  124802   31-10-2022 15:13:33  0.554381\n",
      "982  124803   31-10-2022 15:14:18  0.545389\n",
      "983  124804   31-10-2022 15:14:53  0.556764\n",
      "984  124901   31-10-2022 15:15:24  0.561474\n",
      "\n",
      "[985 rows x 3 columns]\n",
      "       measurement_timestamp    weight\n",
      "id                                    \n",
      "100101   16-08-2022 09:04:59  0.536389\n",
      "100102   16-08-2022 09:05:42  0.533120\n",
      "100103   16-08-2022 09:06:23  0.529679\n",
      "100104   16-08-2022 09:07:57  0.533523\n",
      "100201   16-08-2022 09:10:26  0.530947\n",
      "...                      ...       ...\n",
      "124801   31-10-2022 15:12:44  0.553775\n",
      "124802   31-10-2022 15:13:33  0.554381\n",
      "124803   31-10-2022 15:14:18  0.545389\n",
      "124804   31-10-2022 15:14:53  0.556764\n",
      "124901   31-10-2022 15:15:24  0.561474\n",
      "\n",
      "[985 rows x 2 columns]\n"
     ]
    },
    {
     "ename": "TypeError",
     "evalue": "can only concatenate str (not \"int\") to str",
     "output_type": "error",
     "traceback": [
      "\u001b[0;31m---------------------------------------------------------------------------\u001b[0m",
      "\u001b[0;31mTypeError\u001b[0m                                 Traceback (most recent call last)",
      "Cell \u001b[0;32mIn[3], line 3\u001b[0m\n\u001b[1;32m      1\u001b[0m path \u001b[39m=\u001b[39m \u001b[39m\"\u001b[39m\u001b[39m/home/mittwollen_h@PTW.Maschinenbau.TU-Darmstadt.de/interq_cip_qhs/src/interq_cip_qhs/notebooks/quality_data_sawing.csv\u001b[39m\u001b[39m\"\u001b[39m\n\u001b[1;32m      2\u001b[0m reader \u001b[39m=\u001b[39m SawingProductData(path_csv\u001b[39m=\u001b[39mpath)\n\u001b[0;32m----> 3\u001b[0m a \u001b[39m=\u001b[39m reader\u001b[39m.\u001b[39;49mget_product_QH_id(\u001b[39m100101\u001b[39;49m)\n\u001b[1;32m      4\u001b[0m jprint(a)\n",
      "File \u001b[0;32m~/interq_cip_qhs/src/interq_cip_qhs/product/sawing.py:39\u001b[0m, in \u001b[0;36mSawingProductData.get_product_QH_id\u001b[0;34m(self, id)\u001b[0m\n\u001b[1;32m     30\u001b[0m \u001b[39mdef\u001b[39;00m \u001b[39mget_product_QH_id\u001b[39m(\u001b[39mself\u001b[39m, \u001b[39mid\u001b[39m):\n\u001b[1;32m     31\u001b[0m     \u001b[39m#print(self.quality_data)\u001b[39;00m\n\u001b[1;32m     32\u001b[0m     data \u001b[39m=\u001b[39m \u001b[39mself\u001b[39m\u001b[39m.\u001b[39mquality_data\u001b[39m.\u001b[39mloc[\u001b[39mid\u001b[39m]\n\u001b[1;32m     33\u001b[0m     qh_document \u001b[39m=\u001b[39m {\n\u001b[1;32m     34\u001b[0m         \u001b[39m\"\u001b[39m\u001b[39mpwd\u001b[39m\u001b[39m\"\u001b[39m: \u001b[39mself\u001b[39m\u001b[39m.\u001b[39mpwd,\n\u001b[1;32m     35\u001b[0m         \u001b[39m\"\u001b[39m\u001b[39mcid\u001b[39m\u001b[39m\"\u001b[39m: \u001b[39mself\u001b[39m\u001b[39m.\u001b[39mcid,\n\u001b[1;32m     36\u001b[0m         \u001b[39m\"\u001b[39m\u001b[39mqhd\u001b[39m\u001b[39m\"\u001b[39m: {\n\u001b[1;32m     37\u001b[0m             \u001b[39m\"\u001b[39m\u001b[39mqhd-header\u001b[39m\u001b[39m\"\u001b[39m : {\n\u001b[1;32m     38\u001b[0m                 \u001b[39m\"\u001b[39m\u001b[39mowner\u001b[39m\u001b[39m\"\u001b[39m: \u001b[39mself\u001b[39m\u001b[39m.\u001b[39mowner,\n\u001b[0;32m---> 39\u001b[0m                 \u001b[39m\"\u001b[39m\u001b[39msubject\u001b[39m\u001b[39m\"\u001b[39m: \u001b[39m\"\u001b[39;49m\u001b[39mpart::cylinder_bottom,part_id::\u001b[39;49m\u001b[39m\"\u001b[39;49m \u001b[39m+\u001b[39;49m \u001b[39mid\u001b[39;49m \u001b[39m+\u001b[39m \u001b[39m\"\u001b[39m\u001b[39m,process::sawing,type::product_qh\u001b[39m\u001b[39m\"\u001b[39m,\n\u001b[1;32m     40\u001b[0m                 \u001b[39m\"\u001b[39m\u001b[39mtimeref\u001b[39m\u001b[39m\"\u001b[39m: datetime\u001b[39m.\u001b[39mdatetime\u001b[39m.\u001b[39mstrptime(data[\u001b[39m\"\u001b[39m\u001b[39mmeasurement_timestamp\u001b[39m\u001b[39m\"\u001b[39m], \u001b[39m'\u001b[39m\u001b[39m%d\u001b[39;00m\u001b[39m-\u001b[39m\u001b[39m%\u001b[39m\u001b[39mm-\u001b[39m\u001b[39m%\u001b[39m\u001b[39mY \u001b[39m\u001b[39m%\u001b[39m\u001b[39mH:\u001b[39m\u001b[39m%\u001b[39m\u001b[39mM:\u001b[39m\u001b[39m%\u001b[39m\u001b[39mS\u001b[39m\u001b[39m'\u001b[39m)\u001b[39m.\u001b[39mstrftime(\u001b[39m'\u001b[39m\u001b[39m%\u001b[39m\u001b[39mY-\u001b[39m\u001b[39m%\u001b[39m\u001b[39mm-\u001b[39m\u001b[39m%d\u001b[39;00m\u001b[39mT\u001b[39m\u001b[39m%\u001b[39m\u001b[39mH:\u001b[39m\u001b[39m%\u001b[39m\u001b[39mM:\u001b[39m\u001b[39m%\u001b[39m\u001b[39mSZ\u001b[39m\u001b[39m'\u001b[39m),\n\u001b[1;32m     41\u001b[0m                 \u001b[39m\"\u001b[39m\u001b[39mmodel\u001b[39m\u001b[39m\"\u001b[39m : \u001b[39m\"\u001b[39m\u001b[39mNone\u001b[39m\u001b[39m\"\u001b[39m,\n\u001b[1;32m     42\u001b[0m                 \u001b[39m\"\u001b[39m\u001b[39masset\u001b[39m\u001b[39m\"\u001b[39m : \u001b[39m\"\u001b[39m\u001b[39mtype::product_qh\u001b[39m\u001b[39m\"\u001b[39m\n\u001b[1;32m     43\u001b[0m             },\n\u001b[1;32m     44\u001b[0m             \u001b[39m\"\u001b[39m\u001b[39mqhd-body\u001b[39m\u001b[39m\"\u001b[39m: {\n\u001b[1;32m     45\u001b[0m                 \u001b[39m\"\u001b[39m\u001b[39mIND_weight\u001b[39m\u001b[39m\"\u001b[39m: data[\u001b[39m\"\u001b[39m\u001b[39mweight\u001b[39m\u001b[39m\"\u001b[39m],\n\u001b[1;32m     46\u001b[0m             }\n\u001b[1;32m     47\u001b[0m         }\n\u001b[1;32m     48\u001b[0m     }\n\u001b[1;32m     49\u001b[0m     \u001b[39mreturn\u001b[39;00m qh_document\n",
      "\u001b[0;31mTypeError\u001b[0m: can only concatenate str (not \"int\") to str"
     ]
    }
   ],
   "source": [
    "path = \"/home/mittwollen_h@PTW.Maschinenbau.TU-Darmstadt.de/interq_cip_qhs/src/interq_cip_qhs/notebooks/quality_data_sawing.csv\"\n",
    "reader = SawingProductData(path_csv=path)\n",
    "a = reader.get_product_QH_id(\"100101\")\n",
    "jprint(a)\n"
   ]
  },
  {
   "cell_type": "markdown",
   "metadata": {},
   "source": [
    "get turning process qh"
   ]
  },
  {
   "cell_type": "code",
   "execution_count": null,
   "metadata": {},
   "outputs": [],
   "source": [
    "reader = TurningProcessData(\n",
    "    path_data = path_data\n",
    ")\n",
    "a = reader.get_process_QH_id(\"200902\")\n",
    "jprint(a)"
   ]
  },
  {
   "cell_type": "markdown",
   "metadata": {},
   "source": [
    "publish turning process qh"
   ]
  },
  {
   "cell_type": "code",
   "execution_count": null,
   "metadata": {},
   "outputs": [],
   "source": [
    "b = reader.publish_process_QH_id(\"200903\")\n",
    "jprint(b)"
   ]
  },
  {
   "cell_type": "markdown",
   "metadata": {},
   "source": [
    "get turning data qh"
   ]
  },
  {
   "cell_type": "code",
   "execution_count": null,
   "metadata": {},
   "outputs": [],
   "source": [
    "a = reader.get_data_QH_id(\"200902\", container_name = \"angry_williamson\")\n",
    "jprint(a)"
   ]
  },
  {
   "cell_type": "markdown",
   "metadata": {},
   "source": [
    "publish turning data qh"
   ]
  },
  {
   "cell_type": "code",
   "execution_count": null,
   "metadata": {
    "scrolled": true
   },
   "outputs": [],
   "source": [
    "a = reader.publish_data_QH_id(\"200902\", container_name = \"angry_williamson\")\n",
    "jprint(a)"
   ]
  },
  {
   "cell_type": "markdown",
   "metadata": {},
   "source": [
    "get turning product qh\n"
   ]
  },
  {
   "cell_type": "code",
   "execution_count": 2,
   "metadata": {},
   "outputs": [
    {
     "name": "stdout",
     "output_type": "stream",
     "text": [
      "{\n",
      "    \"cid\": \"6LHWRqwyG1jGobMJMyUjsgsA5u52y37dtiu6bPSrXFX1\",\n",
      "    \"pwd\": \"interq\",\n",
      "    \"qhd\": {\n",
      "        \"qhd-body\": {\n",
      "            \"IND_coaxiality\": \"31.1\",\n",
      "            \"IND_diameter\": \"0.007\",\n",
      "            \"IND_length\": \"163.644\"\n",
      "        },\n",
      "        \"qhd-header\": {\n",
      "            \"asset\": \"type::product_qh\",\n",
      "            \"model\": \"None\",\n",
      "            \"owner\": \"ptw\",\n",
      "            \"subject\": \"part::piston_rod,part_id::211203,process::turning,type::product_qh\",\n",
      "            \"timeref\": \"None\"\n",
      "        }\n",
      "    }\n",
      "}\n"
     ]
    }
   ],
   "source": [
    "path = \"/home/mittwollen_h@PTW.Maschinenbau.TU-Darmstadt.de/interq_cip_qhs/src/interq_cip_qhs/notebooks/quality_data_piston_rods.csv\"\n",
    "reader = TurningProductData(path_csv=path)\n",
    "a = reader.get_product_QH_id(\"211203\")\n",
    "jprint(a)\n"
   ]
  },
  {
   "cell_type": "markdown",
   "metadata": {},
   "source": [
    "get milling process qh"
   ]
  },
  {
   "cell_type": "code",
   "execution_count": null,
   "metadata": {
    "scrolled": true
   },
   "outputs": [],
   "source": [
    "reader = MillingProcessData(\n",
    "    path_data = path_data\n",
    ")\n",
    "qh = reader.get_process_QH_id(\"100101\")\n",
    "jprint(qh)"
   ]
  },
  {
   "attachments": {},
   "cell_type": "markdown",
   "metadata": {},
   "source": [
    "publish milling process qh"
   ]
  },
  {
   "cell_type": "code",
   "execution_count": null,
   "metadata": {},
   "outputs": [],
   "source": [
    "a = reader.publish_process_QH_id(\"100101\")\n",
    "jprint(a)"
   ]
  },
  {
   "cell_type": "markdown",
   "metadata": {},
   "source": [
    "get milling data qh"
   ]
  },
  {
   "cell_type": "code",
   "execution_count": null,
   "metadata": {},
   "outputs": [],
   "source": [
    "qh = reader.get_data_QH_id(\"100101\", container_name = \"angry_williamson\")\n",
    "jprint(qh)"
   ]
  },
  {
   "cell_type": "markdown",
   "metadata": {},
   "source": [
    "publish milling data qh"
   ]
  },
  {
   "cell_type": "code",
   "execution_count": null,
   "metadata": {},
   "outputs": [],
   "source": [
    "a = reader.publish_data_QH_id(\"100101\", container_name = \"angry_williamson\")\n",
    "jprint(a)"
   ]
  },
  {
   "cell_type": "markdown",
   "metadata": {},
   "source": [
    "get milling product qh"
   ]
  },
  {
   "cell_type": "code",
   "execution_count": 8,
   "metadata": {},
   "outputs": [
    {
     "name": "stdout",
     "output_type": "stream",
     "text": [
      "{\n",
      "    \"cid\": \"6LHWRqwyG1jGobMJMyUjsgsA5u52y37dtiu6bPSrXFX1\",\n",
      "    \"pwd\": \"interq\",\n",
      "    \"qhd\": {\n",
      "        \"qhd-body\": {\n",
      "            \"IND_groove_depth\": \"0.803\",\n",
      "            \"IND_groove_diameter\": \"-0.0335\",\n",
      "            \"IND_measurement_time\": \"29.11.2022 12:54:44\",\n",
      "            \"IND_parallelism\": \"0.02\",\n",
      "            \"IND_surface_roughness\": \"1.821\"\n",
      "        },\n",
      "        \"qhd-header\": {\n",
      "            \"asset\": \"type::product_qh\",\n",
      "            \"model\": \"None\",\n",
      "            \"owner\": \"ptw\",\n",
      "            \"subject\": \"part::cylinder_bottom,part_id::100101,process::milling,type::product_qh\",\n",
      "            \"timeref\": \"2022-11-29T12:54:44Z\"\n",
      "        }\n",
      "    }\n",
      "}\n"
     ]
    }
   ],
   "source": [
    "path = \"/home/mittwollen_h@PTW.Maschinenbau.TU-Darmstadt.de/interq_cip_qhs/src/interq_cip_qhs/notebooks/quality_data_cylinder_bottom.csv\"\n",
    "reader = MillingProductData(path_csv=path)\n",
    "a = reader.get_product_QH_id(\"100101\")\n",
    "jprint(a)\n"
   ]
  },
  {
   "cell_type": "code",
   "execution_count": null,
   "metadata": {},
   "outputs": [],
   "source": [
    "reader.publish_product_QH_id(\"100101\")"
   ]
  },
  {
   "cell_type": "code",
   "execution_count": null,
   "metadata": {},
   "outputs": [],
   "source": []
  }
 ],
 "metadata": {
  "kernelspec": {
   "display_name": "Python 3 (ipykernel)",
   "language": "python",
   "name": "python3"
  },
  "language_info": {
   "codemirror_mode": {
    "name": "ipython",
    "version": 3
   },
   "file_extension": ".py",
   "mimetype": "text/x-python",
   "name": "python",
   "nbconvert_exporter": "python",
   "pygments_lexer": "ipython3",
   "version": "3.8.10"
  },
  "vscode": {
   "interpreter": {
    "hash": "941aa2b552535a94d44d303c0158846a26688d0c446ee7e6691b50cbbeec4c28"
   }
  }
 },
 "nbformat": 4,
 "nbformat_minor": 2
}
