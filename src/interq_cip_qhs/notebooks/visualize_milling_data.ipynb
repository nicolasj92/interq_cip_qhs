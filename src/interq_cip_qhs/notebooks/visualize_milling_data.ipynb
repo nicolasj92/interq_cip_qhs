{
 "cells": [
  {
   "cell_type": "code",
   "execution_count": 9,
   "metadata": {},
   "outputs": [],
   "source": [
    "%load_ext autoreload\n",
    "%autoreload 2"
   ]
  },
  {
   "cell_type": "markdown",
   "metadata": {},
   "source": [
    "Imports"
   ]
  },
  {
   "cell_type": "code",
   "execution_count": 1,
   "metadata": {},
   "outputs": [],
   "source": [
    "import numpy as np\n",
    "from pprint import pprint\n",
    "import json\n",
    "from interq_cip_qhs.process.utils import jprint\n",
    "import matplotlib.pyplot as plt\n",
    "import h5py\n",
    "from interq_cip_qhs.process.sawing import SawingProcessData\n",
    "from interq_cip_qhs.process.milling import MillingProcessData\n",
    "from interq_cip_qhs.config import Config\n",
    "config = Config()"
   ]
  },
  {
   "cell_type": "markdown",
   "metadata": {},
   "source": [
    "Constants"
   ]
  },
  {
   "cell_type": "code",
   "execution_count": null,
   "metadata": {},
   "outputs": [],
   "source": [
    "milling_quality_data_with_ts_path = \"/home/mittwollen_h@PTW.Maschinenbau.TU-Darmstadt.de/interq_cip_qhs/src/interq_cip_qhs/notebooks/quality_data_cylinder_bottom.csv\"\n",
    "container_name = \"hardcore_kilby\"\n",
    "reader = MillingProcessData()"
   ]
  },
  {
   "cell_type": "code",
   "execution_count": null,
   "metadata": {},
   "outputs": [],
   "source": [
    "Function Definitions"
   ]
  },
  {
   "cell_type": "code",
   "execution_count": null,
   "metadata": {},
   "outputs": [],
   "source": [
    "def get_cip_dmd_data(part_id):\n",
    "    path = reader._part_id_paths[part_id]\n",
    "    part_id, acc_data, bfc_data = reader.read_raw_from_folder(path)\n",
    "    process_end_ts, process_times = reader.get_processing_times(acc_data)\n",
    "    start = process_times[\"side_1_outer_contour_roughing_and_finishing\"]\n",
    "    end = process_times[\"side_1_stepped_bore\"]\n",
    "    acc_x = acc_data[\"acc_x\"].to_numpy()\n",
    "    time = acc_data[\"time\"].to_numpy()\n",
    "    return acc_x, time\n",
    "\n",
    "def show_id(part_id, axs, pos, title):\n",
    "    acc_x, time = get_cip_dmd_data(part_id)\n",
    "    start_idx = np.searchsorted(time, time[0])\n",
    "    end_idx = np.searchsorted(time, time[0] + 120 * 1e6)\n",
    "    acc_x = acc_x[start_idx:end_idx]\n",
    "    time = time[start_idx:end_idx]\n",
    "    axs[pos].plot(time, acc_x)\n",
    "    axs[pos].set_title(title)\n",
    "    plt.ylim(-0.4, 0.4)\n"
   ]
  },
  {
   "cell_type": "markdown",
   "metadata": {},
   "source": [
    "Show normal and anomalous part"
   ]
  },
  {
   "cell_type": "code",
   "execution_count": null,
   "metadata": {},
   "outputs": [],
   "source": [
    "fig, axs = plt.subplots(2)\n",
    "\n",
    "# anomalous: \n",
    "show_id(\"124404\", axs, 0, \"anomal part\")\n",
    "# nonanomalous\n",
    "show_id(\"115102\", axs, 1, \"normal part\")\n",
    "fig.suptitle(\"Raw X-axis acceleration data\")\n",
    "plt.show()"
   ]
  },
  {
   "cell_type": "markdown",
   "metadata": {},
   "source": [
    "Create numpy NaN values in dedicated dataset"
   ]
  },
  {
   "cell_type": "code",
   "execution_count": null,
   "metadata": {},
   "outputs": [],
   "source": [
    "# 126101 is not a real part number, this dataset entry was created to demonstrate missing value rule\n",
    "path_to_missing = '/home/mittwollen_h@PTW.Maschinenbau.TU-Darmstadt.de/data/cip_dmd/cylinder_bottom/cnc_milling_machine/process_data/126101_04_24_2023_12_23_54/backside_external_sensor_signals.h5'\n",
    "with h5py.File(path_to_missing, 'r') as hf:\n",
    "    acc_x = hf[\"data\"][:,1]\n",
    "\n",
    "idxs = [i for i in range(len(acc_x))]\n",
    "n_missing_values = 847\n",
    "acc_x_with_missing = acc_x.copy()\n",
    "miss_idxs = np.random.choice(idxs, n_missing_values)\n",
    "for idx in miss_idxs:\n",
    "    acc_x_with_missing[idx] = np.nan\n",
    "\n",
    "with h5py.File(path_to_missing, 'r+') as hf:\n",
    "    hf[\"data\"][:,1] = acc_x_with_missing"
   ]
  }
 ],
 "metadata": {
  "kernelspec": {
   "display_name": "Python 3 (ipykernel)",
   "language": "python",
   "name": "python3"
  },
  "language_info": {
   "codemirror_mode": {
    "name": "ipython",
    "version": 3
   },
   "file_extension": ".py",
   "mimetype": "text/x-python",
   "name": "python",
   "nbconvert_exporter": "python",
   "pygments_lexer": "ipython3",
   "version": "3.9.17"
  },
  "vscode": {
   "interpreter": {
    "hash": "941aa2b552535a94d44d303c0158846a26688d0c446ee7e6691b50cbbeec4c28"
   }
  }
 },
 "nbformat": 4,
 "nbformat_minor": 2
}
